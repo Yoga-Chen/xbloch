{
 "cells": [
  {
   "cell_type": "markdown",
   "metadata": {},
   "source": [
    "# Here, we show some results of 3-level simulations to estimate the strength of stimulated RIXS in Co/Pd exposed to strong SASE X-ray pulses at the Co L$_3$ edge"
   ]
  },
  {
   "cell_type": "markdown",
   "metadata": {},
   "source": [
    "## Simulation Procedure\n",
    "\n",
    "### Equations to solve\n",
    "We use the model given in [1]. We summarize the equations we need to solve below\n",
    "\n",
    "#### Propagation of X-Ray Field\n",
    "The X-ray pulse propagates in the z-direction and passes through a sample which extends from $z = 0$ to $z = l$. We neglect X-ray and sample dependence in the $x$ or $y$ directions.\n",
    "\n",
    "We define the electric field of the X-ray pulse incident on the sample as\n",
    "\\begin{equation}\n",
    "E(z, t) = \\mathcal{E}(z, t)\\exp(i(kz-\\omega t))+ \\mathcal{E}^*(z, t)\\exp(-i(kz-\\omega t)),\n",
    "\\end{equation}\n",
    "where $\\mathcal{E}(z, t)$ is the slowly-varying envelope of the electric field, and $^*$ denotes complex conjugation.\n",
    "\n",
    "We assume the propagation of the X-ray field can be described within the slowly varying envelope approximation. From [1], this gives (Eq. 1)\n",
    "\\begin{equation}\n",
    "\\frac{\\partial \\mathcal{E}}{\\partial z}+\\frac{1}{c}\\frac{\\partial E}{\\partial t} = ?\n",
    "\\end{equation}\n",
    "#### Evolution of density matrix elements\n",
    "We assume the coupling of the X-ray pulse to the material can be described with electric dipole interactions, we neglect X-ray-induced coupling of core states to core states or valence states to valence states, and we make the Rotating Wave Approximation. To write the equations for the evolution of the density matrix, we define slowly-varying analogs of the density matrix elements,\n",
    "\\begin{equation}\n",
    "\\rho_{jk} = \\tilde{\\rho_{jk}}\\exp(-i\\omega_{jk}t),\n",
    "\\end{equation}\n",
    "the complex Rabi frequencies\n",
    "\\begin{equation}\n",
    "R_{ij}(t, z) = \\frac{\\mathcal{E}(z, t)\\mu_{ij}}{\\hbar}\\exp(i(\\omega_{ij}-\\omega)t)\\exp(ikz),\n",
    "\\end{equation}\n",
    "and the transition frequency between levels $i$ and $j$ as\n",
    "\\begin{equation}\n",
    "\\omega_{ij} = (\\epsilon_i-\\epsilon_j)/\\hbar,\n",
    "\\end{equation}\n",
    "where $\\epsilon_i$ is the energy of state $|i>$ in the absence of an applied X-ray field.\n",
    "\n",
    "In this case, the evolution of the density matrix elements is given by\n",
    "\\begin{equation}\n",
    "\\frac{\\partial \\tilde{\\rho_{vv'}}}{\\partial t} =\n",
    "-i\n",
    "\\left[\n",
    "\\sum_c R_{cv}^*(t, z)\\tilde{\\rho_{cv'}}\n",
    "-\\sum_c R_{cv'}(t, z)\\tilde{\\rho_{vc}}\n",
    "\\right]\n",
    "+\\tilde{Q}(\\tilde{\\rho})_{vv'}\n",
    "\\end{equation}\n",
    "\n",
    "\\begin{equation}\n",
    "\\frac{\\partial \\tilde{\\rho_{vc}}}{\\partial t} =\n",
    "-i\n",
    "\\left[\n",
    "\\sum_{c'} R_{c'v}^*(t, z)\\tilde{\\rho_{c'c}}\n",
    "-\\sum_{v'}R_{cv'}^*(t, z)\\tilde{\\rho_{vv'}}\n",
    "\\right]\n",
    "+Q(\\tilde{\\rho_{vc}})\n",
    "\\end{equation}\n",
    "\n",
    "\\begin{equation}\n",
    "\\frac{\\partial \\tilde{\\rho_{cc'}}}{\\partial t} =\n",
    "-i\n",
    "\\left[\n",
    "-\\sum_v R_{cv}(t, z)\\tilde{\\rho_{vc'}}\n",
    "-\\sum_{v}R_{c'v}^*(t, z)\\tilde{\\rho_{cv}}\n",
    "\\right]\n",
    "+Q(\\tilde{\\rho_{cc'}})\n",
    "\\end{equation}\n",
    "Here, $v$ and $v'$ denote valence states while $c$ and $c'$ denote core-excited states."
   ]
  },
  {
   "cell_type": "markdown",
   "metadata": {},
   "source": [
    "### Input parameters for simulations\n",
    "#### Envelope of incident X-ray field\n",
    "We assume a Gaussian incident X-ray pulse with initial field envelope\n",
    "\\begin{equation}\n",
    "\\mathcal{E}(z, t=t_0) = \\exp(-(z-ct_0)^2/\\sigma_z^2),\n",
    "\\end{equation}\n",
    "with $\\sigma_z = c\\sigma_t$, and $c$ the speed of light. We choose the starting time of the simulation so that the incident X-ray pulse does not significantly overlap the sample at $t = t_0$. In our case, $t_0 = -5\\sigma_z/c$.\n",
    "\n",
    "#### Energies in absence of applied X-ray field\n",
    "\n",
    "We set the energies of the states to be $\\epsilon_0 = 0$, $\\epsilon_1 = 1.5$ and $\\epsilon_2 = 778$ eV.\n",
    "\n",
    "#### Dipole operator\n",
    "\n",
    "We define the dipole operator as\n",
    "\\begin{equation}\n",
    "\\mu =\n",
    "\\begin{bmatrix}\n",
    "0 & 0 & \\mu_{0c} \\\\\n",
    "0 & 0 & \\mu_{vc} \\\\\n",
    "\\mu^*_{0c} & \\mu^*_{cv} & 0\n",
    "\\end{bmatrix}\n",
    "\\end{equation}\n",
    "We set these values from experimental data, $\\mu_{0c}$ is\n",
    "\n",
    "#### Phenomenological Relaxation\n",
    "\n",
    "We account for relaxation of states via core hole decay only. We define\n",
    "\\begin{equation}\n",
    "Q(\\rho) =\n",
    "\\begin{bmatrix}\n",
    "0 & -\\Gamma\\rho_{12}/2 & 0 \\\\\n",
    "-\\Gamma\\rho_{21}/2 & -\\Gamma \\rho_{11} & -\\Gamma\\rho_{23}/2 \\\\\n",
    "0 & -\\Gamma\\rho_{32}/2 & 0\n",
    "\\end{bmatrix}\n",
    ",\n",
    "\\end{equation}\n",
    "and, using $\\tilde{Q}(\\tilde{\\rho})_{jk} = \\exp(i\\omega_{jk}t)Q(\\rho)_{jk}$,\n",
    "\\begin{equation}\n",
    "\\tilde{Q}(\\tilde{\\rho}) =\n",
    "\\begin{bmatrix}\n",
    "0 & -\\Gamma\\tilde{\\rho_{12}}/2 & 0 \\\\\n",
    "-\\Gamma\\rho_{21}/2 & -\\Gamma\\tilde{\\rho_{11}} & -\\Gamma\\tilde{\\rho_{23}}/2 \\\\\n",
    "0 & -\\Gamma\\tilde{\\rho_{32}}/2 & 0\n",
    "\\end{bmatrix}\n",
    ".\n",
    "\\end{equation}"
   ]
  },
  {
   "cell_type": "markdown",
   "metadata": {},
   "source": [
    "## Simulation Results"
   ]
  },
  {
   "cell_type": "code",
   "execution_count": null,
   "metadata": {},
   "outputs": [],
   "source": [
    "import simu"
   ]
  },
  {
   "cell_type": "markdown",
   "metadata": {},
   "source": [
    "## References\n",
    "[1] V. Kimberg and N. Rohringer, \"Amplified X-Ray Emission from Core-Ionized Diatomic Molecules\", PRL 110, 043901 (2013)"
   ]
  },
  {
   "cell_type": "code",
   "execution_count": null,
   "metadata": {},
   "outputs": [],
   "source": []
  }
 ],
 "metadata": {
  "kernelspec": {
   "display_name": "Python 3",
   "language": "python",
   "name": "python3"
  },
  "language_info": {
   "codemirror_mode": {
    "name": "ipython",
    "version": 3
   },
   "file_extension": ".py",
   "mimetype": "text/x-python",
   "name": "python",
   "nbconvert_exporter": "python",
   "pygments_lexer": "ipython3",
   "version": "3.7.3"
  }
 },
 "nbformat": 4,
 "nbformat_minor": 2
}
